{
 "cells": [
  {
   "cell_type": "markdown",
   "metadata": {},
   "source": [
    "# 1"
   ]
  },
  {
   "cell_type": "code",
   "execution_count": null,
   "metadata": {},
   "outputs": [],
   "source": [
    "a = int(input())\n",
    "x = int(input())\n",
    "y = int(input())\n",
    "s = int(input())\n",
    "h = int(input())\n",
    "\n",
    "while x >= a:\n",
    "    x -= a\n",
    "while y >= a:\n",
    "    y -= a\n",
    "\n",
    "s += x\n",
    "h += y\n",
    "\n",
    "if s%a > 0:\n",
    "    s =(s // a) + 1\n",
    "else:\n",
    "    s = s // a\n",
    "\n",
    "if h%a > 0:\n",
    "    h =(h // a) + 1\n",
    "else:\n",
    "    h = h // a\n",
    "    \n",
    "print('ans =', s * h)"
   ]
  },
  {
   "cell_type": "code",
   "execution_count": null,
   "metadata": {},
   "outputs": [],
   "source": []
  },
  {
   "cell_type": "markdown",
   "metadata": {},
   "source": [
    "# 2"
   ]
  },
  {
   "cell_type": "code",
   "execution_count": 25,
   "metadata": {},
   "outputs": [
    {
     "name": "stdout",
     "output_type": "stream",
     "text": [
      "2094\n"
     ]
    }
   ],
   "source": [
    "a = 'IVXLLMCMC'\n",
    "b = {'I': '1', 'V': '5', 'X': '10', 'L': '50', 'C': '100', 'D': '500', 'M': '1000'}\n",
    "c = {'IV': '4', 'IX': '9', 'XL': '40', 'XC': '90', 'CD': '400', 'CM': '900'}\n",
    "ans = 0\n",
    "\n",
    "while len(a):\n",
    "    if a[:2] in c:\n",
    "#         print(a[:2])\n",
    "        ans += int(c[a[:2]])\n",
    "        a = a[2:]\n",
    "    else:\n",
    "        ans += int(b[a[:1]])\n",
    "#         print(a[:1])\n",
    "        a = a[1:]\n",
    "\n",
    "print(ans)"
   ]
  },
  {
   "cell_type": "code",
   "execution_count": 24,
   "metadata": {},
   "outputs": [
    {
     "data": {
      "text/plain": [
       "'XLLMCM'"
      ]
     },
     "execution_count": 24,
     "metadata": {},
     "output_type": "execute_result"
    }
   ],
   "source": [
    "a = 'IVXLLMCM'\n",
    "c = {'IV': '4', 'IX': '9', 'XL': '40', 'XC': '90', 'CD': '400', 'CM': '900'}\n",
    "\n",
    "# c[a[:2]]\n",
    "a[2:]"
   ]
  },
  {
   "cell_type": "markdown",
   "metadata": {},
   "source": [
    "# 3"
   ]
  },
  {
   "cell_type": "code",
   "execution_count": 8,
   "metadata": {},
   "outputs": [
    {
     "name": "stdout",
     "output_type": "stream",
     "text": [
      "16\n",
      "1\n",
      "1\n",
      "2\n",
      "2\n",
      "1\n",
      "1\n",
      "1\n",
      "2\n",
      "1\n",
      "2\n",
      "1\n",
      "1\n",
      "2\n",
      "1\n",
      "1\n",
      "[[1, 2], [3, 4], [5, 6], [7, 8], [9, 10], [11, 12], [13, 14], [15, 16]]\n",
      "8\n"
     ]
    }
   ],
   "source": [
    "def play(n, b, a, c):\n",
    "    n //= 2\n",
    "    for i in range(n):           # игра\n",
    "        c.append(a[i][b[i]])\n",
    "\n",
    "    b = b[n:]\n",
    "\n",
    "    a = []\n",
    "    for i in range(n):            # создаёт список на следующую игру\n",
    "        if i%2 == 0:\n",
    "            a.append([c[i] ,c[i+1]])\n",
    "    c = []\n",
    "    \n",
    "    if n == 2:\n",
    "        c.append(a[0][b[0]])\n",
    "        return print(c[0])\n",
    "    else:\n",
    "        return play(n, b, a, c)\n",
    "\n",
    "\n",
    "\n",
    "n = int(input())\n",
    "# n = 8\n",
    "# b = [0, 1, 1, 0, 1, 0, 1]\n",
    "a = []\n",
    "c = []\n",
    "\n",
    "if n == 1:\n",
    "    print(int(input()))\n",
    "elif n == 2:\n",
    "    print(int(input()))\n",
    "else:\n",
    "    b = [int(input()) - 1 for i in range(n-1)]\n",
    "    # n = 8\n",
    "    # b = [0, 1, 1, 0, 1, 0, 1]\n",
    "    a = []\n",
    "    c = []\n",
    "    for i in range(n):      # создаёт начальный список\n",
    "        if i%2 == 0:\n",
    "            a.append([i+1 ,i+2])\n",
    "    print(a)\n",
    "    play(n, b, a, c)"
   ]
  },
  {
   "cell_type": "code",
   "execution_count": null,
   "metadata": {},
   "outputs": [],
   "source": [
    "n = int(input())\n",
    "b = [int(input()) - 1 for i in range(n)]\n",
    "b\n"
   ]
  },
  {
   "cell_type": "code",
   "execution_count": null,
   "metadata": {},
   "outputs": [],
   "source": []
  },
  {
   "cell_type": "code",
   "execution_count": null,
   "metadata": {},
   "outputs": [],
   "source": []
  },
  {
   "cell_type": "code",
   "execution_count": null,
   "metadata": {},
   "outputs": [],
   "source": []
  },
  {
   "cell_type": "code",
   "execution_count": null,
   "metadata": {},
   "outputs": [],
   "source": []
  }
 ],
 "metadata": {
  "kernelspec": {
   "display_name": "Python 3",
   "language": "python",
   "name": "python3"
  },
  "language_info": {
   "codemirror_mode": {
    "name": "ipython",
    "version": 3
   },
   "file_extension": ".py",
   "mimetype": "text/x-python",
   "name": "python",
   "nbconvert_exporter": "python",
   "pygments_lexer": "ipython3",
   "version": "3.7.3"
  }
 },
 "nbformat": 4,
 "nbformat_minor": 2
}
