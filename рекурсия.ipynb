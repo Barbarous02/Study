{
 "cells": [
  {
   "cell_type": "markdown",
   "metadata": {},
   "source": [
    "### От 1 до n\n",
    "#### Дано натуральное число n. Выведите все числа от 1 до n."
   ]
  },
  {
   "cell_type": "code",
   "execution_count": 37,
   "metadata": {},
   "outputs": [
    {
     "name": "stdout",
     "output_type": "stream",
     "text": [
      "5\n",
      "1 2 3 4 5 "
     ]
    }
   ],
   "source": [
    "def all_print(n, k):\n",
    "    \n",
    "    if k <= n:\n",
    "        print(k, end = ' ')\n",
    "        k += 1\n",
    "        return all_print(n, k)\n",
    "    \n",
    "n = int(input())\n",
    "k = 1\n",
    "all_print(n, k)"
   ]
  },
  {
   "cell_type": "markdown",
   "metadata": {},
   "source": [
    "### От A до B\n",
    "#### Даны два целых числа A и В (каждое в отдельной строке). Выведите все числа от A до B включительно, в порядке возрастания, если A < B, или в порядке убывания в противном случае."
   ]
  },
  {
   "cell_type": "code",
   "execution_count": 13,
   "metadata": {},
   "outputs": [
    {
     "name": "stdout",
     "output_type": "stream",
     "text": [
      "144\n",
      "15\n",
      "144 143 142 141 140 139 138 137 136 135 134 133 132 131 130 129 128 127 126 125 124 123 122 121 120 119 118 117 116 115 114 113 112 111 110 109 108 107 106 105 104 103 102 101 100 99 98 97 96 95 94 93 92 91 90 89 88 87 86 85 84 83 82 81 80 79 78 77 76 75 74 73 72 71 70 69 68 67 66 65 64 63 62 61 60 59 58 57 56 55 54 53 52 51 50 49 48 47 46 45 44 43 42 41 40 39 38 37 36 35 34 33 32 31 30 29 28 27 26 25 24 23 22 21 20 19 18 17 16 15 "
     ]
    }
   ],
   "source": [
    "def my_print1(a, b):\n",
    "    if a <= b:\n",
    "        print(a, end = ' ')\n",
    "        a += 1\n",
    "        return my_print1(a, b)\n",
    "    \n",
    "def my_print2(a, b):\n",
    "    if a >= b:\n",
    "        print(a, end = ' ')\n",
    "        a -= 1\n",
    "        return my_print2(a, b)\n",
    "    \n",
    "a = int(input())\n",
    "b = int(input())\n",
    "\n",
    "if a < b:\n",
    "    my_print1(a, b)\n",
    "    \n",
    "else:\n",
    "    my_print2(a, b)"
   ]
  },
  {
   "cell_type": "markdown",
   "metadata": {},
   "source": [
    "Функция Аккермана\n",
    "В теории вычислимости важную роль играет функция Аккермана A(m,n), определенная следующим образом:\n",
    "image\n",
    "Даны два целых неотрицательных числа m и n, каждое в отдельной строке. Выведите A(m,n)."
   ]
  },
  {
   "cell_type": "code",
   "execution_count": 3,
   "metadata": {},
   "outputs": [
    {
     "ename": "IndentationError",
     "evalue": "unindent does not match any outer indentation level (<tokenize>, line 16)",
     "output_type": "error",
     "traceback": [
      "\u001b[1;36m  File \u001b[1;32m\"<tokenize>\"\u001b[1;36m, line \u001b[1;32m16\u001b[0m\n\u001b[1;33m    A(m, n)\u001b[0m\n\u001b[1;37m    ^\u001b[0m\n\u001b[1;31mIndentationError\u001b[0m\u001b[1;31m:\u001b[0m unindent does not match any outer indentation level\n"
     ]
    }
   ],
   "source": [
    "def A(m, n):\n",
    "    if m == 0:\n",
    "        print(int(n))\n",
    "        return n + 1\n",
    "        #print('A(' + str(m) + ', ' + str(n) + ')')\n",
    "    \n",
    "    if m > 0 and n == 0:\n",
    "        m -= 1\n",
    "        n = 1\n",
    "        return A(m, n)\n",
    "        \n",
    "    if m > 0 and n > 0:\n",
    "              n = A(m, n - 1)\n",
    "              m -= 1\n",
    "        return A(m, n)\n",
    "\n",
    "m = int(input())\n",
    "n = int(input())\n",
    "A(m, n)\n",
    "print('A(' + str(m) + ', ' + str(n) + ')')"
   ]
  },
  {
   "cell_type": "markdown",
   "metadata": {},
   "source": [
    "### Точная степень двойки\n",
    "#### Дано натуральное число N. Выведите слово YES, если число N является точной степенью двойки, или слово NO в противном случае.\n",
    "#### Операцией возведения в степень пользоваться нельзя!"
   ]
  },
  {
   "cell_type": "code",
   "execution_count": null,
   "metadata": {},
   "outputs": [],
   "source": [
    "def www(a):\n",
    "    if a/2 > 0:\n",
    "        a /= 2\n",
    "        www(a)\n",
    "    if a <= 1:\n",
    "        a = 'NO'\n",
    "        return(a)\n",
    "\n",
    "a = int(input())\n",
    "www(a)\n",
    "print(a)"
   ]
  },
  {
   "cell_type": "markdown",
   "metadata": {},
   "source": [
    "### Евклид\n",
    "#### Нод"
   ]
  },
  {
   "cell_type": "code",
   "execution_count": 26,
   "metadata": {},
   "outputs": [
    {
     "name": "stdout",
     "output_type": "stream",
     "text": [
      "oj\n"
     ]
    },
    {
     "ename": "ValueError",
     "evalue": "invalid literal for int() with base 10: 'oj'",
     "output_type": "error",
     "traceback": [
      "\u001b[1;31m---------------------------------------------------------------------------\u001b[0m",
      "\u001b[1;31mValueError\u001b[0m                                Traceback (most recent call last)",
      "\u001b[1;32m<ipython-input-26-1360053017f6>\u001b[0m in \u001b[0;36m<module>\u001b[1;34m\u001b[0m\n\u001b[0;32m      9\u001b[0m     \u001b[1;32mreturn\u001b[0m \u001b[0mevklid\u001b[0m\u001b[1;33m(\u001b[0m\u001b[0ma\u001b[0m\u001b[1;33m,\u001b[0m \u001b[0mb\u001b[0m\u001b[1;33m)\u001b[0m\u001b[1;33m\u001b[0m\u001b[1;33m\u001b[0m\u001b[0m\n\u001b[0;32m     10\u001b[0m \u001b[1;33m\u001b[0m\u001b[0m\n\u001b[1;32m---> 11\u001b[1;33m \u001b[0ma\u001b[0m \u001b[1;33m=\u001b[0m \u001b[0mint\u001b[0m\u001b[1;33m(\u001b[0m\u001b[0minput\u001b[0m\u001b[1;33m(\u001b[0m\u001b[1;33m)\u001b[0m\u001b[1;33m)\u001b[0m\u001b[1;33m\u001b[0m\u001b[1;33m\u001b[0m\u001b[0m\n\u001b[0m\u001b[0;32m     12\u001b[0m \u001b[0mb\u001b[0m \u001b[1;33m=\u001b[0m \u001b[0mint\u001b[0m\u001b[1;33m(\u001b[0m\u001b[0minput\u001b[0m\u001b[1;33m(\u001b[0m\u001b[1;33m)\u001b[0m\u001b[1;33m)\u001b[0m\u001b[1;33m\u001b[0m\u001b[1;33m\u001b[0m\u001b[0m\n\u001b[0;32m     13\u001b[0m \u001b[1;33m\u001b[0m\u001b[0m\n",
      "\u001b[1;31mValueError\u001b[0m: invalid literal for int() with base 10: 'oj'"
     ]
    }
   ],
   "source": [
    "def evklid(a, b):\n",
    "    if b == 0:\n",
    "        return(a)\n",
    "    elif a % b == 0:\n",
    "        return(b)\n",
    "    if a > b:\n",
    "        a, b = b, a\n",
    "    a, b = ((b - (b % a)) // (b // a)), b % a\n",
    "    return evklid(a, b)\n",
    "    \n",
    "a = int(input())\n",
    "b = int(input())\n",
    "\n",
    "#if a == 0 or b == 0:\n",
    "    #print('дурак')       #'??????????????????????'\n",
    "#else:\n",
    "evklid(a, b)"
   ]
  },
  {
   "cell_type": "code",
   "execution_count": null,
   "metadata": {},
   "outputs": [],
   "source": [
    "45643545\n",
    "645354"
   ]
  },
  {
   "cell_type": "code",
   "execution_count": null,
   "metadata": {},
   "outputs": [],
   "source": [
    "a = 2\n",
    "b = 4\n",
    "a, b = ((b - (b % a)) // (b // a)), b % a\n",
    "print(a, b)"
   ]
  },
  {
   "cell_type": "code",
   "execution_count": null,
   "metadata": {},
   "outputs": [],
   "source": [
    "a = 8802\n",
    "b = 21303\n",
    "(b - (b % a)) // (b // a), b % a"
   ]
  },
  {
   "cell_type": "markdown",
   "metadata": {},
   "source": [
    "### Декартово произведение"
   ]
  },
  {
   "cell_type": "code",
   "execution_count": 25,
   "metadata": {},
   "outputs": [
    {
     "name": "stdout",
     "output_type": "stream",
     "text": [
      "[[1, 1], [1, 2], [1, 3], [2, 1], [2, 2], [2, 3]]\n"
     ]
    }
   ],
   "source": [
    "# через цикл\n",
    "a = [1, 2]\n",
    "b = [1, 2, 3]\n",
    "ab = []\n",
    "\n",
    "for i in a:\n",
    "    for j in b:\n",
    "        ab.append([i, j])\n",
    "print(ab)"
   ]
  },
  {
   "cell_type": "code",
   "execution_count": 36,
   "metadata": {},
   "outputs": [
    {
     "name": "stdout",
     "output_type": "stream",
     "text": [
      "[[1, 4], [1, 5], [2, 4], [2, 5], [3, 4], [3, 5]]\n"
     ]
    }
   ],
   "source": [
    "# через рекурсию\n",
    "def dekart(a, b, i, j):\n",
    "    if i != 0:\n",
    "        if j != 0:\n",
    "            ab.append([a[-i], b[-j]])\n",
    "            j -= 1\n",
    "            return dekart(a, b, i, j)\n",
    "        j = len(b)\n",
    "        i -= 1\n",
    "        return dekart(a, b, i, j)\n",
    "    return\n",
    "    \n",
    "a = [1, 2, 3]\n",
    "b = [4, 5]\n",
    "ab = []\n",
    "i = len(a)\n",
    "j = len(b)\n",
    "dekart(a, b, i, j)    \n",
    "print(ab)"
   ]
  },
  {
   "cell_type": "code",
   "execution_count": null,
   "metadata": {},
   "outputs": [],
   "source": []
  },
  {
   "cell_type": "code",
   "execution_count": null,
   "metadata": {},
   "outputs": [],
   "source": []
  },
  {
   "cell_type": "code",
   "execution_count": null,
   "metadata": {},
   "outputs": [],
   "source": []
  },
  {
   "cell_type": "code",
   "execution_count": null,
   "metadata": {},
   "outputs": [],
   "source": []
  },
  {
   "cell_type": "code",
   "execution_count": null,
   "metadata": {},
   "outputs": [],
   "source": []
  },
  {
   "cell_type": "code",
   "execution_count": null,
   "metadata": {},
   "outputs": [],
   "source": []
  },
  {
   "cell_type": "code",
   "execution_count": null,
   "metadata": {},
   "outputs": [],
   "source": []
  }
 ],
 "metadata": {
  "kernelspec": {
   "display_name": "Python 3",
   "language": "python",
   "name": "python3"
  },
  "language_info": {
   "codemirror_mode": {
    "name": "ipython",
    "version": 3
   },
   "file_extension": ".py",
   "mimetype": "text/x-python",
   "name": "python",
   "nbconvert_exporter": "python",
   "pygments_lexer": "ipython3",
   "version": "3.7.3"
  }
 },
 "nbformat": 4,
 "nbformat_minor": 2
}
