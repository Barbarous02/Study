{
 "cells": [
  {
   "cell_type": "markdown",
   "metadata": {},
   "source": [
    "### От 1 до n\n",
    "#### Дано натуральное число n. Выведите все числа от 1 до n."
   ]
  },
  {
   "cell_type": "code",
   "execution_count": 1,
   "metadata": {},
   "outputs": [
    {
     "name": "stdout",
     "output_type": "stream",
     "text": [
      "4\n",
      "1 2 3 4 "
     ]
    }
   ],
   "source": [
    "def all_print(n, k):\n",
    "    \n",
    "    if k <= n:\n",
    "        print(k, end = ' ')\n",
    "        k += 1\n",
    "        return all_print(n, k)\n",
    "    \n",
    "n = int(input())\n",
    "k = 1\n",
    "all_print(n, k)"
   ]
  },
  {
   "cell_type": "markdown",
   "metadata": {},
   "source": [
    "### От A до B\n",
    "#### Даны два целых числа A и В (каждое в отдельной строке). Выведите все числа от A до B включительно, в порядке возрастания, если A < B, или в порядке убывания в противном случае."
   ]
  },
  {
   "cell_type": "code",
   "execution_count": 13,
   "metadata": {},
   "outputs": [
    {
     "name": "stdout",
     "output_type": "stream",
     "text": [
      "144\n",
      "15\n",
      "144 143 142 141 140 139 138 137 136 135 134 133 132 131 130 129 128 127 126 125 124 123 122 121 120 119 118 117 116 115 114 113 112 111 110 109 108 107 106 105 104 103 102 101 100 99 98 97 96 95 94 93 92 91 90 89 88 87 86 85 84 83 82 81 80 79 78 77 76 75 74 73 72 71 70 69 68 67 66 65 64 63 62 61 60 59 58 57 56 55 54 53 52 51 50 49 48 47 46 45 44 43 42 41 40 39 38 37 36 35 34 33 32 31 30 29 28 27 26 25 24 23 22 21 20 19 18 17 16 15 "
     ]
    }
   ],
   "source": [
    "def my_print1(a, b):\n",
    "    if a <= b:\n",
    "        print(a, end = ' ')\n",
    "        a += 1\n",
    "        return my_print1(a, b)\n",
    "    \n",
    "def my_print2(a, b):\n",
    "    if a >= b:\n",
    "        print(a, end = ' ')\n",
    "        a -= 1\n",
    "        return my_print2(a, b)\n",
    "    \n",
    "a = int(input())\n",
    "b = int(input())\n",
    "\n",
    "if a < b:\n",
    "    my_print1(a, b)\n",
    "    \n",
    "else:\n",
    "    my_print2(a, b)"
   ]
  },
  {
   "cell_type": "markdown",
   "metadata": {},
   "source": [
    "Функция Аккермана\n",
    "В теории вычислимости важную роль играет функция Аккермана A(m,n), определенная следующим образом:\n",
    "image\n",
    "Даны два целых неотрицательных числа m и n, каждое в отдельной строке. Выведите A(m,n)."
   ]
  },
  {
   "cell_type": "code",
   "execution_count": 136,
   "metadata": {},
   "outputs": [
    {
     "name": "stdout",
     "output_type": "stream",
     "text": [
      "55555\n",
      "55\n"
     ]
    },
    {
     "ename": "RecursionError",
     "evalue": "maximum recursion depth exceeded in comparison",
     "output_type": "error",
     "traceback": [
      "\u001b[1;31m---------------------------------------------------------------------------\u001b[0m",
      "\u001b[1;31mRecursionError\u001b[0m                            Traceback (most recent call last)",
      "\u001b[1;32m<ipython-input-136-b2dd1824b4b3>\u001b[0m in \u001b[0;36m<module>\u001b[1;34m\u001b[0m\n\u001b[0;32m     17\u001b[0m \u001b[0mm\u001b[0m \u001b[1;33m=\u001b[0m \u001b[0mint\u001b[0m\u001b[1;33m(\u001b[0m\u001b[0minput\u001b[0m\u001b[1;33m(\u001b[0m\u001b[1;33m)\u001b[0m\u001b[1;33m)\u001b[0m\u001b[1;33m\u001b[0m\u001b[1;33m\u001b[0m\u001b[0m\n\u001b[0;32m     18\u001b[0m \u001b[0mn\u001b[0m \u001b[1;33m=\u001b[0m \u001b[0mint\u001b[0m\u001b[1;33m(\u001b[0m\u001b[0minput\u001b[0m\u001b[1;33m(\u001b[0m\u001b[1;33m)\u001b[0m\u001b[1;33m)\u001b[0m\u001b[1;33m\u001b[0m\u001b[1;33m\u001b[0m\u001b[0m\n\u001b[1;32m---> 19\u001b[1;33m \u001b[0mA\u001b[0m\u001b[1;33m(\u001b[0m\u001b[0mm\u001b[0m\u001b[1;33m,\u001b[0m \u001b[0mn\u001b[0m\u001b[1;33m)\u001b[0m\u001b[1;33m\u001b[0m\u001b[1;33m\u001b[0m\u001b[0m\n\u001b[0m\u001b[0;32m     20\u001b[0m \u001b[0mprint\u001b[0m\u001b[1;33m(\u001b[0m\u001b[1;34m'A('\u001b[0m \u001b[1;33m+\u001b[0m \u001b[0mstr\u001b[0m\u001b[1;33m(\u001b[0m\u001b[0mm\u001b[0m\u001b[1;33m)\u001b[0m \u001b[1;33m+\u001b[0m \u001b[1;34m', '\u001b[0m \u001b[1;33m+\u001b[0m \u001b[0mstr\u001b[0m\u001b[1;33m(\u001b[0m\u001b[0mn\u001b[0m\u001b[1;33m)\u001b[0m \u001b[1;33m+\u001b[0m \u001b[1;34m')'\u001b[0m\u001b[1;33m)\u001b[0m\u001b[1;33m\u001b[0m\u001b[1;33m\u001b[0m\u001b[0m\n",
      "\u001b[1;32m<ipython-input-136-b2dd1824b4b3>\u001b[0m in \u001b[0;36mA\u001b[1;34m(m, n)\u001b[0m\n\u001b[0;32m     11\u001b[0m \u001b[1;33m\u001b[0m\u001b[0m\n\u001b[0;32m     12\u001b[0m     \u001b[1;32mif\u001b[0m \u001b[0mm\u001b[0m \u001b[1;33m>\u001b[0m \u001b[1;36m0\u001b[0m \u001b[1;32mand\u001b[0m \u001b[0mn\u001b[0m \u001b[1;33m>\u001b[0m \u001b[1;36m0\u001b[0m\u001b[1;33m:\u001b[0m\u001b[1;33m\u001b[0m\u001b[1;33m\u001b[0m\u001b[0m\n\u001b[1;32m---> 13\u001b[1;33m         \u001b[0mn\u001b[0m \u001b[1;33m=\u001b[0m \u001b[0mA\u001b[0m\u001b[1;33m(\u001b[0m\u001b[0mm\u001b[0m\u001b[1;33m,\u001b[0m \u001b[0mn\u001b[0m \u001b[1;33m-\u001b[0m \u001b[1;36m1\u001b[0m\u001b[1;33m)\u001b[0m\u001b[1;33m\u001b[0m\u001b[1;33m\u001b[0m\u001b[0m\n\u001b[0m\u001b[0;32m     14\u001b[0m         \u001b[0mm\u001b[0m \u001b[1;33m-=\u001b[0m \u001b[1;36m1\u001b[0m\u001b[1;33m\u001b[0m\u001b[1;33m\u001b[0m\u001b[0m\n\u001b[0;32m     15\u001b[0m         \u001b[1;32mreturn\u001b[0m \u001b[0mA\u001b[0m\u001b[1;33m(\u001b[0m\u001b[0mm\u001b[0m\u001b[1;33m,\u001b[0m \u001b[0mn\u001b[0m\u001b[1;33m)\u001b[0m\u001b[1;33m\u001b[0m\u001b[1;33m\u001b[0m\u001b[0m\n",
      "\u001b[1;32m<ipython-input-136-b2dd1824b4b3>\u001b[0m in \u001b[0;36mA\u001b[1;34m(m, n)\u001b[0m\n\u001b[0;32m     11\u001b[0m \u001b[1;33m\u001b[0m\u001b[0m\n\u001b[0;32m     12\u001b[0m     \u001b[1;32mif\u001b[0m \u001b[0mm\u001b[0m \u001b[1;33m>\u001b[0m \u001b[1;36m0\u001b[0m \u001b[1;32mand\u001b[0m \u001b[0mn\u001b[0m \u001b[1;33m>\u001b[0m \u001b[1;36m0\u001b[0m\u001b[1;33m:\u001b[0m\u001b[1;33m\u001b[0m\u001b[1;33m\u001b[0m\u001b[0m\n\u001b[1;32m---> 13\u001b[1;33m         \u001b[0mn\u001b[0m \u001b[1;33m=\u001b[0m \u001b[0mA\u001b[0m\u001b[1;33m(\u001b[0m\u001b[0mm\u001b[0m\u001b[1;33m,\u001b[0m \u001b[0mn\u001b[0m \u001b[1;33m-\u001b[0m \u001b[1;36m1\u001b[0m\u001b[1;33m)\u001b[0m\u001b[1;33m\u001b[0m\u001b[1;33m\u001b[0m\u001b[0m\n\u001b[0m\u001b[0;32m     14\u001b[0m         \u001b[0mm\u001b[0m \u001b[1;33m-=\u001b[0m \u001b[1;36m1\u001b[0m\u001b[1;33m\u001b[0m\u001b[1;33m\u001b[0m\u001b[0m\n\u001b[0;32m     15\u001b[0m         \u001b[1;32mreturn\u001b[0m \u001b[0mA\u001b[0m\u001b[1;33m(\u001b[0m\u001b[0mm\u001b[0m\u001b[1;33m,\u001b[0m \u001b[0mn\u001b[0m\u001b[1;33m)\u001b[0m\u001b[1;33m\u001b[0m\u001b[1;33m\u001b[0m\u001b[0m\n",
      "... last 2 frames repeated, from the frame below ...\n",
      "\u001b[1;32m<ipython-input-136-b2dd1824b4b3>\u001b[0m in \u001b[0;36mA\u001b[1;34m(m, n)\u001b[0m\n\u001b[0;32m     11\u001b[0m \u001b[1;33m\u001b[0m\u001b[0m\n\u001b[0;32m     12\u001b[0m     \u001b[1;32mif\u001b[0m \u001b[0mm\u001b[0m \u001b[1;33m>\u001b[0m \u001b[1;36m0\u001b[0m \u001b[1;32mand\u001b[0m \u001b[0mn\u001b[0m \u001b[1;33m>\u001b[0m \u001b[1;36m0\u001b[0m\u001b[1;33m:\u001b[0m\u001b[1;33m\u001b[0m\u001b[1;33m\u001b[0m\u001b[0m\n\u001b[1;32m---> 13\u001b[1;33m         \u001b[0mn\u001b[0m \u001b[1;33m=\u001b[0m \u001b[0mA\u001b[0m\u001b[1;33m(\u001b[0m\u001b[0mm\u001b[0m\u001b[1;33m,\u001b[0m \u001b[0mn\u001b[0m \u001b[1;33m-\u001b[0m \u001b[1;36m1\u001b[0m\u001b[1;33m)\u001b[0m\u001b[1;33m\u001b[0m\u001b[1;33m\u001b[0m\u001b[0m\n\u001b[0m\u001b[0;32m     14\u001b[0m         \u001b[0mm\u001b[0m \u001b[1;33m-=\u001b[0m \u001b[1;36m1\u001b[0m\u001b[1;33m\u001b[0m\u001b[1;33m\u001b[0m\u001b[0m\n\u001b[0;32m     15\u001b[0m         \u001b[1;32mreturn\u001b[0m \u001b[0mA\u001b[0m\u001b[1;33m(\u001b[0m\u001b[0mm\u001b[0m\u001b[1;33m,\u001b[0m \u001b[0mn\u001b[0m\u001b[1;33m)\u001b[0m\u001b[1;33m\u001b[0m\u001b[1;33m\u001b[0m\u001b[0m\n",
      "\u001b[1;31mRecursionError\u001b[0m: maximum recursion depth exceeded in comparison"
     ]
    }
   ],
   "source": [
    "def A(m, n):\n",
    "    if m == 0:\n",
    "        print(int(n))\n",
    "        return n + 1\n",
    "        #print('A(' + str(m) + ', ' + str(n) + ')')\n",
    "    \n",
    "    if m > 0 and n == 0:\n",
    "        m -= 1\n",
    "        n = 1\n",
    "        return A(m, n)\n",
    "        \n",
    "    if m > 0 and n > 0:\n",
    "        n = A(m, n - 1)\n",
    "        m -= 1\n",
    "        return A(m, n)\n",
    "\n",
    "m = int(input())\n",
    "n = int(input())\n",
    "A(m, n)\n",
    "print('A(' + str(m) + ', ' + str(n) + ')')"
   ]
  },
  {
   "cell_type": "markdown",
   "metadata": {},
   "source": [
    "### Точная степень двойки\n",
    "#### Дано натуральное число N. Выведите слово YES, если число N является точной степенью двойки, или слово NO в противном случае.\n",
    "#### Операцией возведения в степень пользоваться нельзя!"
   ]
  },
  {
   "cell_type": "code",
   "execution_count": null,
   "metadata": {},
   "outputs": [],
   "source": [
    "def www(a):\n",
    "    if a/2 > 0:\n",
    "        a /= 2\n",
    "        www(a)\n",
    "    if a <= 1:\n",
    "        a = 'NO'\n",
    "        return(a)\n",
    "\n",
    "a = int(input())\n",
    "www(a)\n",
    "print(a)"
   ]
  },
  {
   "cell_type": "markdown",
   "metadata": {},
   "source": [
    "### Евклид\n",
    "#### Нод"
   ]
  },
  {
   "cell_type": "code",
   "execution_count": 131,
   "metadata": {},
   "outputs": [
    {
     "name": "stdout",
     "output_type": "stream",
     "text": [
      "455\n",
      "25\n"
     ]
    },
    {
     "data": {
      "text/plain": [
       "5"
      ]
     },
     "execution_count": 131,
     "metadata": {},
     "output_type": "execute_result"
    }
   ],
   "source": [
    "def evklid(a, b):\n",
    "    if b == 0:\n",
    "        return(a)\n",
    "    elif a % b == 0:\n",
    "        return(b)\n",
    "    if a > b:\n",
    "        a, b = b, a\n",
    "    a, b = ((b - (b % a)) // (b // a)), b % a\n",
    "    return evklid(a, b)\n",
    "    \n",
    "a = int(input())\n",
    "b = int(input())\n",
    "\n",
    "#if a == 0 or b == 0:\n",
    "    #print('дурак')       #'??????????????????????'\n",
    "#else:\n",
    "evklid(a, b)"
   ]
  },
  {
   "cell_type": "markdown",
   "metadata": {},
   "source": [
    "### Нок"
   ]
  },
  {
   "cell_type": "code",
   "execution_count": 161,
   "metadata": {},
   "outputs": [
    {
     "name": "stdout",
     "output_type": "stream",
     "text": [
      "121\n",
      "11\n",
      "121\n"
     ]
    }
   ],
   "source": [
    "def nok(a, k, n):\n",
    "    if a == 1:\n",
    "        k = 0\n",
    "        return\n",
    "    if a%n == 0:\n",
    "        a = a // n\n",
    "        k += 1\n",
    "        if d.setdefault(n) == None or d.setdefault(n) < k:\n",
    "            d[n] = k\n",
    "        return nok(a, k, n)\n",
    "    else:\n",
    "        n += 1\n",
    "        k = 0\n",
    "        return nok(a, k, n)\n",
    "\n",
    "a, b = int(input()), int(input())\n",
    "d = dict()\n",
    "n = 2\n",
    "k = 0\n",
    "nok(a, k, n)\n",
    "nok(b, k, n)\n",
    "s = 1\n",
    "for i in d:\n",
    "    s = s * i**d[i]\n",
    "print(s)"
   ]
  },
  {
   "cell_type": "markdown",
   "metadata": {},
   "source": [
    "### Декартово произведение"
   ]
  },
  {
   "cell_type": "code",
   "execution_count": 7,
   "metadata": {},
   "outputs": [
    {
     "name": "stdout",
     "output_type": "stream",
     "text": [
      "[[4, 7], [4, 8], [4, 9], [5, 7], [5, 8], [5, 9]]\n"
     ]
    }
   ],
   "source": [
    "# через цикл\n",
    "a = [4, 5]\n",
    "b = [7, 8, 9]\n",
    "ab = []\n",
    "\n",
    "for i in a:\n",
    "    for j in b:\n",
    "        ab.append([i, j])\n",
    "print(ab)"
   ]
  },
  {
   "cell_type": "code",
   "execution_count": 2,
   "metadata": {},
   "outputs": [
    {
     "name": "stdout",
     "output_type": "stream",
     "text": [
      "Вводите точки вектора в строку через пробел.\n",
      "Чтобы перейти к следующему вектору нажмите \"Enter\".\n",
      "Чтобы закончить ввод напишите \"stop\".\n",
      " \n",
      "1   a b c\n",
      "2   1 2 3\n",
      "3   Y U I\n",
      "4   stop\n",
      "[['a', '1', 'Y'], ['a', '1', 'U'], ['a', '1', 'I'], ['a', '2', 'Y'], ['a', '2', 'U'], ['a', '2', 'I'], ['a', '3', 'Y'], ['a', '3', 'U'], ['a', '3', 'I'], ['b', '1', 'Y'], ['b', '1', 'U'], ['b', '1', 'I'], ['b', '2', 'Y'], ['b', '2', 'U'], ['b', '2', 'I'], ['b', '3', 'Y'], ['b', '3', 'U'], ['b', '3', 'I'], ['c', '1', 'Y'], ['c', '1', 'U'], ['c', '1', 'I'], ['c', '2', 'Y'], ['c', '2', 'U'], ['c', '2', 'I'], ['c', '3', 'Y'], ['c', '3', 'U'], ['c', '3', 'I']]\n",
      "a 1 Y\n",
      "a 1 U\n",
      "a 1 I\n",
      "a 2 Y\n",
      "a 2 U\n",
      "a 2 I\n",
      "a 3 Y\n",
      "a 3 U\n",
      "a 3 I\n",
      "b 1 Y\n",
      "b 1 U\n",
      "b 1 I\n",
      "b 2 Y\n",
      "b 2 U\n",
      "b 2 I\n",
      "b 3 Y\n",
      "b 3 U\n",
      "b 3 I\n",
      "c 1 Y\n",
      "c 1 U\n",
      "c 1 I\n",
      "c 2 Y\n",
      "c 2 U\n",
      "c 2 I\n",
      "c 3 Y\n",
      "c 3 U\n",
      "c 3 I\n"
     ]
    }
   ],
   "source": [
    "# через while 2222222 +++++++++\n",
    "def dekart(a, b, n):\n",
    "    while b[n] != 0:\n",
    "        if n + 1 < lena:\n",
    "            n += 1\n",
    "            return dekart(a, b, n)\n",
    "        abc = []\n",
    "        #print(a, b)\n",
    "        for i in range(lena):\n",
    "            abc.append(a[i][-b[i]])\n",
    "        ab.append(abc)\n",
    "        b[n] -= 1\n",
    "    if n == 0:\n",
    "        return\n",
    "    b[n] = len(a[n])\n",
    "    b[n-1] -= 1\n",
    "    n = 0\n",
    "    return dekart(a, b, n)\n",
    "\n",
    "a = []\n",
    "print('''Вводите точки вектора в строку через пробел.\n",
    "Чтобы перейти к следующему вектору нажмите \"Enter\".\n",
    "Чтобы закончить ввод напишите \"stop\".\n",
    " ''')\n",
    "c = input('1   ').split(' ')\n",
    "b = 2\n",
    "while c[0] != 'stop':\n",
    "    a.append(c)\n",
    "    print(b, end = '   ')\n",
    "    b += 1\n",
    "    c = input().split(' ')\n",
    "lena = len(a)\n",
    "ab = []\n",
    "b = []\n",
    "for i in range(lena):\n",
    "    b.append(len(a[i]))    \n",
    "n = 0\n",
    "dekart(a, b, n)    \n",
    "print(ab)\n",
    "\n",
    "for i in ab:\n",
    "    print(\" \".join(i))"
   ]
  },
  {
   "cell_type": "code",
   "execution_count": null,
   "metadata": {},
   "outputs": [],
   "source": []
  },
  {
   "cell_type": "code",
   "execution_count": 162,
   "metadata": {},
   "outputs": [
    {
     "name": "stdout",
     "output_type": "stream",
     "text": [
      "вводите числа через пробел   4 55 66 5 88 99 3562\n",
      "вводите числа через пробел   .\n"
     ]
    },
    {
     "data": {
      "text/plain": [
       "[['4', '55', '66', '5', '88', '99', '3562']]"
      ]
     },
     "execution_count": 162,
     "metadata": {},
     "output_type": "execute_result"
    }
   ],
   "source": [
    "# ввод\n",
    "a = []\n",
    "c = input('вводите числа через пробел   ').split(' ')\n",
    "while c[0] != '.':\n",
    "    a.append(c)\n",
    "    c = input('вводите числа через пробел   ').split(' ')\n",
    "a"
   ]
  },
  {
   "cell_type": "code",
   "execution_count": null,
   "metadata": {},
   "outputs": [],
   "source": []
  },
  {
   "cell_type": "code",
   "execution_count": null,
   "metadata": {},
   "outputs": [],
   "source": []
  }
 ],
 "metadata": {
  "kernelspec": {
   "display_name": "Python 3",
   "language": "python",
   "name": "python3"
  },
  "language_info": {
   "codemirror_mode": {
    "name": "ipython",
    "version": 3
   },
   "file_extension": ".py",
   "mimetype": "text/x-python",
   "name": "python",
   "nbconvert_exporter": "python",
   "pygments_lexer": "ipython3",
   "version": "3.7.3"
  }
 },
 "nbformat": 4,
 "nbformat_minor": 2
}
